{
 "cells": [
  {
   "cell_type": "code",
   "execution_count": 4,
   "id": "979864a4",
   "metadata": {},
   "outputs": [],
   "source": [
    "import plotly.graph_objects as go\n",
    "import math, random, time\n",
    "from IPython.display import display\n",
    "from IPython.display import clear_output\n"
   ]
  },
  {
   "cell_type": "code",
   "execution_count": 5,
   "id": "3d2b0137",
   "metadata": {},
   "outputs": [],
   "source": [
    "class ScanFrame:\n",
    "    def __init__(self, theta_range, phi_range):\n",
    "        self.theta_range = list(theta_range)\n",
    "        self.phi_range = list(phi_range)\n",
    "        self.grid = [[None for _ in self.phi_range] for _ in self.theta_range]\n",
    "\n",
    "    def fill(self, t_idx, p_idx, r):\n",
    "        self.grid[t_idx][p_idx] = r\n",
    "\n",
    "    def is_full(self):\n",
    "        return all(r is not None for row in self.grid for r in row)\n",
    "\n",
    "    def to_cartesian(self):\n",
    "        x, y, z = [], [], []\n",
    "        for ti, theta in enumerate(self.theta_range):\n",
    "            for pi, phi in enumerate(self.phi_range):\n",
    "                r = self.grid[ti][pi]\n",
    "                if r is not None:\n",
    "                    theta_rad = math.radians(theta)\n",
    "                    phi_rad = math.radians(phi)\n",
    "                    # 這裡我們依你的 XZ 展開，Y 為距離邏輯\n",
    "                    x.append(r * math.cos(theta_rad))\n",
    "                    z.append(r * math.sin(phi_rad))\n",
    "                    y.append(r)\n",
    "        return x, y, z\n"
   ]
  },
  {
   "cell_type": "code",
   "execution_count": 6,
   "id": "178facda",
   "metadata": {},
   "outputs": [
    {
     "data": {
      "application/vnd.jupyter.widget-view+json": {
       "model_id": "1549227cd78140f6bfe38f5022550aaa",
       "version_major": 2,
       "version_minor": 0
      },
      "text/plain": [
       "FigureWidget({\n",
       "    'data': [{'marker': {'color': [],\n",
       "                         'colorscale': [[0.0, '#440154'], [0.1111111111111111,\n",
       "                                        '#482878'], [0.2222222222222222,\n",
       "                                        '#3e4989'], [0.3333333333333333,\n",
       "                                        '#31688e'], [0.4444444444444444,\n",
       "                                        '#26828e'], [0.5555555555555556,\n",
       "                                        '#1f9e89'], [0.6666666666666666,\n",
       "                                        '#35b779'], [0.7777777777777778,\n",
       "                                        '#6ece58'], [0.8888888888888888,\n",
       "                                        '#b5de2b'], [1.0, '#fde725']],\n",
       "                         'opacity': 0.8,\n",
       "                         'size': 4},\n",
       "              'mode': 'markers',\n",
       "              'type': 'scatter3d',\n",
       "              'uid': '454cec41-0d03-4d7c-95a9-c76861de1e2c',\n",
       "              'x': [],\n",
       "              'y': [],\n",
       "              'z': []}],\n",
       "    'layout': {'scene': {'bgcolor': 'black',\n",
       "                         'camera': {'eye': {'x': 0, 'y': 2, 'z': 0}},\n",
       "                         'xaxis': {'autorange': False, 'dtick': 20, 'range': [-100, 100], 'title': {'text': 'X (cm)'}},\n",
       "                         'yaxis': {'autorange': False, 'dtick': 20, 'range': [0, 150], 'title': {'text': 'Y (cm)'}},\n",
       "                         'zaxis': {'autorange': False, 'dtick': 20, 'range': [0, 100], 'title': {'text': 'Z (cm)'}}},\n",
       "               'template': '...',\n",
       "               'title': {'text': '3D 聲納掃描模擬（每秒刷新）'}}\n",
       "})"
      ]
     },
     "metadata": {},
     "output_type": "display_data"
    }
   ],
   "source": [
    "# 初始資料\n",
    "x_vals, y_vals, z_vals = [], [], []\n",
    "\n",
    "# 建立空圖\n",
    "fig = go.FigureWidget()\n",
    "scatter = go.Scatter3d(\n",
    "    x=[],\n",
    "    y=[],\n",
    "    z=[],\n",
    "    mode='markers',\n",
    "    marker=dict(size=4, color=[], colorscale='Viridis', opacity=0.8)\n",
    ")\n",
    "fig.add_trace(scatter)\n",
    "\n",
    "fig.update_layout(\n",
    "    scene_camera=dict(\n",
    "        eye=dict(x=0, y=2, z=0)  # 垂直從上往下看\n",
    "    ),\n",
    "    scene=dict(\n",
    "        xaxis=dict(title='X (cm)', range=[-100, 100], dtick=20, autorange=False),\n",
    "        yaxis=dict(title='Y (cm)', range=[0, 150], dtick=20, autorange=False),\n",
    "        zaxis=dict(title='Z (cm)', range=[0, 100], dtick=20, autorange=False),\n",
    "        bgcolor=\"black\"\n",
    "    ),\n",
    "    title='3D 聲納掃描模擬（每秒刷新）'\n",
    ")\n",
    "\n",
    "display(fig)\n"
   ]
  },
  {
   "cell_type": "code",
   "execution_count": 7,
   "id": "4523f3a0",
   "metadata": {},
   "outputs": [],
   "source": [
    "theta_range = range(0, 180, 20)\n",
    "phi_range = range(30, 90, 15)\n",
    "\n",
    "# 迴圈模擬 20 頁掃描資料\n",
    "for _ in range(20):\n",
    "    scan = ScanFrame(theta_range, phi_range)  # 每輪一頁\n",
    "    for ti, t in enumerate(theta_range):\n",
    "        for pi, p in enumerate(phi_range):\n",
    "            r = random.uniform(50, 100)\n",
    "            scan.fill(ti, pi, r)\n",
    "\n",
    "    # 將本輪掃描結果轉換為 x, y, z\n",
    "    new_x, new_y, new_z = scan.to_cartesian()\n",
    "\n",
    "    # 更新圖形\n",
    "    with fig.batch_update():\n",
    "        fig.data[0].x = new_x\n",
    "        fig.data[0].y = new_y\n",
    "        fig.data[0].z = new_z\n",
    "        fig.data[0].marker.color = new_z\n",
    "\n",
    "    time.sleep(0.5)\n"
   ]
  }
 ],
 "metadata": {
  "kernelspec": {
   "display_name": "venv",
   "language": "python",
   "name": "python3"
  },
  "language_info": {
   "codemirror_mode": {
    "name": "ipython",
    "version": 3
   },
   "file_extension": ".py",
   "mimetype": "text/x-python",
   "name": "python",
   "nbconvert_exporter": "python",
   "pygments_lexer": "ipython3",
   "version": "3.13.2"
  }
 },
 "nbformat": 4,
 "nbformat_minor": 5
}
